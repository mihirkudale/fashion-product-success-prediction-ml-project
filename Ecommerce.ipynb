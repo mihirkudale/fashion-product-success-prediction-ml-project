{
  "nbformat": 4,
  "nbformat_minor": 0,
  "metadata": {
    "colab": {
      "provenance": [],
      "gpuType": "T4"
    },
    "kernelspec": {
      "name": "python3",
      "display_name": "Python 3"
    },
    "language_info": {
      "name": "python"
    },
    "accelerator": "GPU"
  },
  "cells": [
    {
      "cell_type": "code",
      "execution_count": 1,
      "metadata": {
        "id": "07zwFxfpg4Ce"
      },
      "outputs": [],
      "source": [
        "import pandas as pd\n",
        "import matplotlib.pyplot as plt\n",
        "import seaborn as sns\n",
        "from sklearn.model_selection import train_test_split\n",
        "from sklearn.preprocessing import StandardScaler, OneHotEncoder, LabelEncoder\n",
        "from sklearn.compose import ColumnTransformer\n",
        "from sklearn.pipeline import Pipeline\n",
        "from sklearn.ensemble import RandomForestClassifier\n",
        "from sklearn.metrics import classification_report, accuracy_score\n",
        "import tensorflow as tf\n",
        "from tensorflow.keras.models import Sequential\n",
        "from tensorflow.keras.layers import Dense, Dropout"
      ]
    },
    {
      "cell_type": "code",
      "source": [
        "# Load the historic data\n",
        "historic_data = 'historic.csv'\n",
        "historic_df = pd.read_csv(historic_data)"
      ],
      "metadata": {
        "id": "Sl4NLgCWhNQX"
      },
      "execution_count": 2,
      "outputs": []
    },
    {
      "cell_type": "code",
      "source": [
        "# Display the first few rows of the dataset\n",
        "historic_df.head()"
      ],
      "metadata": {
        "colab": {
          "base_uri": "https://localhost:8080/",
          "height": 206
        },
        "id": "ddC7JpsZhixr",
        "outputId": "2134dde3-df59-4f6a-f4db-ac9a718c7e97"
      },
      "execution_count": 3,
      "outputs": [
        {
          "output_type": "execute_result",
          "data": {
            "text/plain": [
              "   item_no    category      main_promotion  color  stars success_indicator\n",
              "0   739157       Tunic             Catalog  Green    3.1              flop\n",
              "1   591846      Hoodie  Category_Highlight    Red    1.5              flop\n",
              "2   337574  Sweatshirt             Catalog    Red    4.4               top\n",
              "3   401933  Polo-Shirt  Category_Highlight   Blue    3.1              flop\n",
              "4   812151      Hoodie  Category_Highlight  Green    4.1               top"
            ],
            "text/html": [
              "\n",
              "  <div id=\"df-5e2febd7-8387-4ee9-be8a-106946fd44e5\" class=\"colab-df-container\">\n",
              "    <div>\n",
              "<style scoped>\n",
              "    .dataframe tbody tr th:only-of-type {\n",
              "        vertical-align: middle;\n",
              "    }\n",
              "\n",
              "    .dataframe tbody tr th {\n",
              "        vertical-align: top;\n",
              "    }\n",
              "\n",
              "    .dataframe thead th {\n",
              "        text-align: right;\n",
              "    }\n",
              "</style>\n",
              "<table border=\"1\" class=\"dataframe\">\n",
              "  <thead>\n",
              "    <tr style=\"text-align: right;\">\n",
              "      <th></th>\n",
              "      <th>item_no</th>\n",
              "      <th>category</th>\n",
              "      <th>main_promotion</th>\n",
              "      <th>color</th>\n",
              "      <th>stars</th>\n",
              "      <th>success_indicator</th>\n",
              "    </tr>\n",
              "  </thead>\n",
              "  <tbody>\n",
              "    <tr>\n",
              "      <th>0</th>\n",
              "      <td>739157</td>\n",
              "      <td>Tunic</td>\n",
              "      <td>Catalog</td>\n",
              "      <td>Green</td>\n",
              "      <td>3.1</td>\n",
              "      <td>flop</td>\n",
              "    </tr>\n",
              "    <tr>\n",
              "      <th>1</th>\n",
              "      <td>591846</td>\n",
              "      <td>Hoodie</td>\n",
              "      <td>Category_Highlight</td>\n",
              "      <td>Red</td>\n",
              "      <td>1.5</td>\n",
              "      <td>flop</td>\n",
              "    </tr>\n",
              "    <tr>\n",
              "      <th>2</th>\n",
              "      <td>337574</td>\n",
              "      <td>Sweatshirt</td>\n",
              "      <td>Catalog</td>\n",
              "      <td>Red</td>\n",
              "      <td>4.4</td>\n",
              "      <td>top</td>\n",
              "    </tr>\n",
              "    <tr>\n",
              "      <th>3</th>\n",
              "      <td>401933</td>\n",
              "      <td>Polo-Shirt</td>\n",
              "      <td>Category_Highlight</td>\n",
              "      <td>Blue</td>\n",
              "      <td>3.1</td>\n",
              "      <td>flop</td>\n",
              "    </tr>\n",
              "    <tr>\n",
              "      <th>4</th>\n",
              "      <td>812151</td>\n",
              "      <td>Hoodie</td>\n",
              "      <td>Category_Highlight</td>\n",
              "      <td>Green</td>\n",
              "      <td>4.1</td>\n",
              "      <td>top</td>\n",
              "    </tr>\n",
              "  </tbody>\n",
              "</table>\n",
              "</div>\n",
              "    <div class=\"colab-df-buttons\">\n",
              "\n",
              "  <div class=\"colab-df-container\">\n",
              "    <button class=\"colab-df-convert\" onclick=\"convertToInteractive('df-5e2febd7-8387-4ee9-be8a-106946fd44e5')\"\n",
              "            title=\"Convert this dataframe to an interactive table.\"\n",
              "            style=\"display:none;\">\n",
              "\n",
              "  <svg xmlns=\"http://www.w3.org/2000/svg\" height=\"24px\" viewBox=\"0 -960 960 960\">\n",
              "    <path d=\"M120-120v-720h720v720H120Zm60-500h600v-160H180v160Zm220 220h160v-160H400v160Zm0 220h160v-160H400v160ZM180-400h160v-160H180v160Zm440 0h160v-160H620v160ZM180-180h160v-160H180v160Zm440 0h160v-160H620v160Z\"/>\n",
              "  </svg>\n",
              "    </button>\n",
              "\n",
              "  <style>\n",
              "    .colab-df-container {\n",
              "      display:flex;\n",
              "      gap: 12px;\n",
              "    }\n",
              "\n",
              "    .colab-df-convert {\n",
              "      background-color: #E8F0FE;\n",
              "      border: none;\n",
              "      border-radius: 50%;\n",
              "      cursor: pointer;\n",
              "      display: none;\n",
              "      fill: #1967D2;\n",
              "      height: 32px;\n",
              "      padding: 0 0 0 0;\n",
              "      width: 32px;\n",
              "    }\n",
              "\n",
              "    .colab-df-convert:hover {\n",
              "      background-color: #E2EBFA;\n",
              "      box-shadow: 0px 1px 2px rgba(60, 64, 67, 0.3), 0px 1px 3px 1px rgba(60, 64, 67, 0.15);\n",
              "      fill: #174EA6;\n",
              "    }\n",
              "\n",
              "    .colab-df-buttons div {\n",
              "      margin-bottom: 4px;\n",
              "    }\n",
              "\n",
              "    [theme=dark] .colab-df-convert {\n",
              "      background-color: #3B4455;\n",
              "      fill: #D2E3FC;\n",
              "    }\n",
              "\n",
              "    [theme=dark] .colab-df-convert:hover {\n",
              "      background-color: #434B5C;\n",
              "      box-shadow: 0px 1px 3px 1px rgba(0, 0, 0, 0.15);\n",
              "      filter: drop-shadow(0px 1px 2px rgba(0, 0, 0, 0.3));\n",
              "      fill: #FFFFFF;\n",
              "    }\n",
              "  </style>\n",
              "\n",
              "    <script>\n",
              "      const buttonEl =\n",
              "        document.querySelector('#df-5e2febd7-8387-4ee9-be8a-106946fd44e5 button.colab-df-convert');\n",
              "      buttonEl.style.display =\n",
              "        google.colab.kernel.accessAllowed ? 'block' : 'none';\n",
              "\n",
              "      async function convertToInteractive(key) {\n",
              "        const element = document.querySelector('#df-5e2febd7-8387-4ee9-be8a-106946fd44e5');\n",
              "        const dataTable =\n",
              "          await google.colab.kernel.invokeFunction('convertToInteractive',\n",
              "                                                    [key], {});\n",
              "        if (!dataTable) return;\n",
              "\n",
              "        const docLinkHtml = 'Like what you see? Visit the ' +\n",
              "          '<a target=\"_blank\" href=https://colab.research.google.com/notebooks/data_table.ipynb>data table notebook</a>'\n",
              "          + ' to learn more about interactive tables.';\n",
              "        element.innerHTML = '';\n",
              "        dataTable['output_type'] = 'display_data';\n",
              "        await google.colab.output.renderOutput(dataTable, element);\n",
              "        const docLink = document.createElement('div');\n",
              "        docLink.innerHTML = docLinkHtml;\n",
              "        element.appendChild(docLink);\n",
              "      }\n",
              "    </script>\n",
              "  </div>\n",
              "\n",
              "\n",
              "<div id=\"df-7c76ed76-4af1-426f-8226-e30358a93aef\">\n",
              "  <button class=\"colab-df-quickchart\" onclick=\"quickchart('df-7c76ed76-4af1-426f-8226-e30358a93aef')\"\n",
              "            title=\"Suggest charts\"\n",
              "            style=\"display:none;\">\n",
              "\n",
              "<svg xmlns=\"http://www.w3.org/2000/svg\" height=\"24px\"viewBox=\"0 0 24 24\"\n",
              "     width=\"24px\">\n",
              "    <g>\n",
              "        <path d=\"M19 3H5c-1.1 0-2 .9-2 2v14c0 1.1.9 2 2 2h14c1.1 0 2-.9 2-2V5c0-1.1-.9-2-2-2zM9 17H7v-7h2v7zm4 0h-2V7h2v10zm4 0h-2v-4h2v4z\"/>\n",
              "    </g>\n",
              "</svg>\n",
              "  </button>\n",
              "\n",
              "<style>\n",
              "  .colab-df-quickchart {\n",
              "      --bg-color: #E8F0FE;\n",
              "      --fill-color: #1967D2;\n",
              "      --hover-bg-color: #E2EBFA;\n",
              "      --hover-fill-color: #174EA6;\n",
              "      --disabled-fill-color: #AAA;\n",
              "      --disabled-bg-color: #DDD;\n",
              "  }\n",
              "\n",
              "  [theme=dark] .colab-df-quickchart {\n",
              "      --bg-color: #3B4455;\n",
              "      --fill-color: #D2E3FC;\n",
              "      --hover-bg-color: #434B5C;\n",
              "      --hover-fill-color: #FFFFFF;\n",
              "      --disabled-bg-color: #3B4455;\n",
              "      --disabled-fill-color: #666;\n",
              "  }\n",
              "\n",
              "  .colab-df-quickchart {\n",
              "    background-color: var(--bg-color);\n",
              "    border: none;\n",
              "    border-radius: 50%;\n",
              "    cursor: pointer;\n",
              "    display: none;\n",
              "    fill: var(--fill-color);\n",
              "    height: 32px;\n",
              "    padding: 0;\n",
              "    width: 32px;\n",
              "  }\n",
              "\n",
              "  .colab-df-quickchart:hover {\n",
              "    background-color: var(--hover-bg-color);\n",
              "    box-shadow: 0 1px 2px rgba(60, 64, 67, 0.3), 0 1px 3px 1px rgba(60, 64, 67, 0.15);\n",
              "    fill: var(--button-hover-fill-color);\n",
              "  }\n",
              "\n",
              "  .colab-df-quickchart-complete:disabled,\n",
              "  .colab-df-quickchart-complete:disabled:hover {\n",
              "    background-color: var(--disabled-bg-color);\n",
              "    fill: var(--disabled-fill-color);\n",
              "    box-shadow: none;\n",
              "  }\n",
              "\n",
              "  .colab-df-spinner {\n",
              "    border: 2px solid var(--fill-color);\n",
              "    border-color: transparent;\n",
              "    border-bottom-color: var(--fill-color);\n",
              "    animation:\n",
              "      spin 1s steps(1) infinite;\n",
              "  }\n",
              "\n",
              "  @keyframes spin {\n",
              "    0% {\n",
              "      border-color: transparent;\n",
              "      border-bottom-color: var(--fill-color);\n",
              "      border-left-color: var(--fill-color);\n",
              "    }\n",
              "    20% {\n",
              "      border-color: transparent;\n",
              "      border-left-color: var(--fill-color);\n",
              "      border-top-color: var(--fill-color);\n",
              "    }\n",
              "    30% {\n",
              "      border-color: transparent;\n",
              "      border-left-color: var(--fill-color);\n",
              "      border-top-color: var(--fill-color);\n",
              "      border-right-color: var(--fill-color);\n",
              "    }\n",
              "    40% {\n",
              "      border-color: transparent;\n",
              "      border-right-color: var(--fill-color);\n",
              "      border-top-color: var(--fill-color);\n",
              "    }\n",
              "    60% {\n",
              "      border-color: transparent;\n",
              "      border-right-color: var(--fill-color);\n",
              "    }\n",
              "    80% {\n",
              "      border-color: transparent;\n",
              "      border-right-color: var(--fill-color);\n",
              "      border-bottom-color: var(--fill-color);\n",
              "    }\n",
              "    90% {\n",
              "      border-color: transparent;\n",
              "      border-bottom-color: var(--fill-color);\n",
              "    }\n",
              "  }\n",
              "</style>\n",
              "\n",
              "  <script>\n",
              "    async function quickchart(key) {\n",
              "      const quickchartButtonEl =\n",
              "        document.querySelector('#' + key + ' button');\n",
              "      quickchartButtonEl.disabled = true;  // To prevent multiple clicks.\n",
              "      quickchartButtonEl.classList.add('colab-df-spinner');\n",
              "      try {\n",
              "        const charts = await google.colab.kernel.invokeFunction(\n",
              "            'suggestCharts', [key], {});\n",
              "      } catch (error) {\n",
              "        console.error('Error during call to suggestCharts:', error);\n",
              "      }\n",
              "      quickchartButtonEl.classList.remove('colab-df-spinner');\n",
              "      quickchartButtonEl.classList.add('colab-df-quickchart-complete');\n",
              "    }\n",
              "    (() => {\n",
              "      let quickchartButtonEl =\n",
              "        document.querySelector('#df-7c76ed76-4af1-426f-8226-e30358a93aef button');\n",
              "      quickchartButtonEl.style.display =\n",
              "        google.colab.kernel.accessAllowed ? 'block' : 'none';\n",
              "    })();\n",
              "  </script>\n",
              "</div>\n",
              "\n",
              "    </div>\n",
              "  </div>\n"
            ],
            "application/vnd.google.colaboratory.intrinsic+json": {
              "type": "dataframe",
              "variable_name": "historic_df",
              "summary": "{\n  \"name\": \"historic_df\",\n  \"rows\": 8000,\n  \"fields\": [\n    {\n      \"column\": \"item_no\",\n      \"properties\": {\n        \"dtype\": \"number\",\n        \"std\": 256513,\n        \"min\": 100171,\n        \"max\": 989740,\n        \"num_unique_values\": 8000,\n        \"samples\": [\n          472352,\n          185002,\n          195209\n        ],\n        \"semantic_type\": \"\",\n        \"description\": \"\"\n      }\n    },\n    {\n      \"column\": \"category\",\n      \"properties\": {\n        \"dtype\": \"category\",\n        \"num_unique_values\": 6,\n        \"samples\": [\n          \"Tunic\",\n          \"Hoodie\",\n          \"Blouse\"\n        ],\n        \"semantic_type\": \"\",\n        \"description\": \"\"\n      }\n    },\n    {\n      \"column\": \"main_promotion\",\n      \"properties\": {\n        \"dtype\": \"category\",\n        \"num_unique_values\": 4,\n        \"samples\": [\n          \"Category_Highlight\",\n          \"Frontpage_Header\",\n          \"Catalog\"\n        ],\n        \"semantic_type\": \"\",\n        \"description\": \"\"\n      }\n    },\n    {\n      \"column\": \"color\",\n      \"properties\": {\n        \"dtype\": \"category\",\n        \"num_unique_values\": 10,\n        \"samples\": [\n          \"Pink\",\n          \"Red\",\n          \"White\"\n        ],\n        \"semantic_type\": \"\",\n        \"description\": \"\"\n      }\n    },\n    {\n      \"column\": \"stars\",\n      \"properties\": {\n        \"dtype\": \"number\",\n        \"std\": 0.9788104020188934,\n        \"min\": 0.3,\n        \"max\": 6.1,\n        \"num_unique_values\": 57,\n        \"samples\": [\n          3.1,\n          1.4,\n          3.0\n        ],\n        \"semantic_type\": \"\",\n        \"description\": \"\"\n      }\n    },\n    {\n      \"column\": \"success_indicator\",\n      \"properties\": {\n        \"dtype\": \"category\",\n        \"num_unique_values\": 2,\n        \"samples\": [\n          \"top\",\n          \"flop\"\n        ],\n        \"semantic_type\": \"\",\n        \"description\": \"\"\n      }\n    }\n  ]\n}"
            }
          },
          "metadata": {},
          "execution_count": 3
        }
      ]
    },
    {
      "cell_type": "markdown",
      "source": [
        "The dataset has the following columns:\n",
        "\n",
        "* item_no: Internal identifier for a past product or a product candidate for the future.\n",
        "* category: Category of the product.\n",
        "* main_promotion: Main promotion that was used to promote the product.\n",
        "* color: The main color of the product.\n",
        "* stars: Stars of reviews from a comparable product of a competitor (from 0 = very negative reviews to 5 = very positive reviews).\n",
        "* success_indicator: Indicator whether a product was successful (top) or not (flop) in the past."
      ],
      "metadata": {
        "id": "_e6ZxxFHh247"
      }
    },
    {
      "cell_type": "code",
      "source": [
        "# Check for missing values\n",
        "missing_values = historic_df.isnull().sum()\n",
        "missing_values"
      ],
      "metadata": {
        "colab": {
          "base_uri": "https://localhost:8080/"
        },
        "id": "q7Cp1JXYhlmM",
        "outputId": "ef52346f-19dc-414e-91a8-c721c57131fd"
      },
      "execution_count": 4,
      "outputs": [
        {
          "output_type": "execute_result",
          "data": {
            "text/plain": [
              "item_no              0\n",
              "category             0\n",
              "main_promotion       0\n",
              "color                0\n",
              "stars                0\n",
              "success_indicator    0\n",
              "dtype: int64"
            ]
          },
          "metadata": {},
          "execution_count": 4
        }
      ]
    },
    {
      "cell_type": "markdown",
      "source": [
        "* There are no missing values in the dataset."
      ],
      "metadata": {
        "id": "2yoBUchGldLv"
      }
    },
    {
      "cell_type": "code",
      "source": [
        "# Generate summary statistics for numerical columns\n",
        "summary_stats = historic_df.describe()\n",
        "summary_stats"
      ],
      "metadata": {
        "colab": {
          "base_uri": "https://localhost:8080/",
          "height": 300
        },
        "id": "2q0GrvHpjAAh",
        "outputId": "4f061628-94d2-497a-c930-8285eb5601e1"
      },
      "execution_count": 5,
      "outputs": [
        {
          "output_type": "execute_result",
          "data": {
            "text/plain": [
              "             item_no        stars\n",
              "count    8000.000000  8000.000000\n",
              "mean   546474.338375     3.473075\n",
              "std    256513.463874     0.978810\n",
              "min    100171.000000     0.300000\n",
              "25%    325001.500000     2.800000\n",
              "50%    547081.000000     3.500000\n",
              "75%    764312.250000     4.200000\n",
              "max    989740.000000     6.100000"
            ],
            "text/html": [
              "\n",
              "  <div id=\"df-cdb4da17-c384-451e-abe5-9a0d68399245\" class=\"colab-df-container\">\n",
              "    <div>\n",
              "<style scoped>\n",
              "    .dataframe tbody tr th:only-of-type {\n",
              "        vertical-align: middle;\n",
              "    }\n",
              "\n",
              "    .dataframe tbody tr th {\n",
              "        vertical-align: top;\n",
              "    }\n",
              "\n",
              "    .dataframe thead th {\n",
              "        text-align: right;\n",
              "    }\n",
              "</style>\n",
              "<table border=\"1\" class=\"dataframe\">\n",
              "  <thead>\n",
              "    <tr style=\"text-align: right;\">\n",
              "      <th></th>\n",
              "      <th>item_no</th>\n",
              "      <th>stars</th>\n",
              "    </tr>\n",
              "  </thead>\n",
              "  <tbody>\n",
              "    <tr>\n",
              "      <th>count</th>\n",
              "      <td>8000.000000</td>\n",
              "      <td>8000.000000</td>\n",
              "    </tr>\n",
              "    <tr>\n",
              "      <th>mean</th>\n",
              "      <td>546474.338375</td>\n",
              "      <td>3.473075</td>\n",
              "    </tr>\n",
              "    <tr>\n",
              "      <th>std</th>\n",
              "      <td>256513.463874</td>\n",
              "      <td>0.978810</td>\n",
              "    </tr>\n",
              "    <tr>\n",
              "      <th>min</th>\n",
              "      <td>100171.000000</td>\n",
              "      <td>0.300000</td>\n",
              "    </tr>\n",
              "    <tr>\n",
              "      <th>25%</th>\n",
              "      <td>325001.500000</td>\n",
              "      <td>2.800000</td>\n",
              "    </tr>\n",
              "    <tr>\n",
              "      <th>50%</th>\n",
              "      <td>547081.000000</td>\n",
              "      <td>3.500000</td>\n",
              "    </tr>\n",
              "    <tr>\n",
              "      <th>75%</th>\n",
              "      <td>764312.250000</td>\n",
              "      <td>4.200000</td>\n",
              "    </tr>\n",
              "    <tr>\n",
              "      <th>max</th>\n",
              "      <td>989740.000000</td>\n",
              "      <td>6.100000</td>\n",
              "    </tr>\n",
              "  </tbody>\n",
              "</table>\n",
              "</div>\n",
              "    <div class=\"colab-df-buttons\">\n",
              "\n",
              "  <div class=\"colab-df-container\">\n",
              "    <button class=\"colab-df-convert\" onclick=\"convertToInteractive('df-cdb4da17-c384-451e-abe5-9a0d68399245')\"\n",
              "            title=\"Convert this dataframe to an interactive table.\"\n",
              "            style=\"display:none;\">\n",
              "\n",
              "  <svg xmlns=\"http://www.w3.org/2000/svg\" height=\"24px\" viewBox=\"0 -960 960 960\">\n",
              "    <path d=\"M120-120v-720h720v720H120Zm60-500h600v-160H180v160Zm220 220h160v-160H400v160Zm0 220h160v-160H400v160ZM180-400h160v-160H180v160Zm440 0h160v-160H620v160ZM180-180h160v-160H180v160Zm440 0h160v-160H620v160Z\"/>\n",
              "  </svg>\n",
              "    </button>\n",
              "\n",
              "  <style>\n",
              "    .colab-df-container {\n",
              "      display:flex;\n",
              "      gap: 12px;\n",
              "    }\n",
              "\n",
              "    .colab-df-convert {\n",
              "      background-color: #E8F0FE;\n",
              "      border: none;\n",
              "      border-radius: 50%;\n",
              "      cursor: pointer;\n",
              "      display: none;\n",
              "      fill: #1967D2;\n",
              "      height: 32px;\n",
              "      padding: 0 0 0 0;\n",
              "      width: 32px;\n",
              "    }\n",
              "\n",
              "    .colab-df-convert:hover {\n",
              "      background-color: #E2EBFA;\n",
              "      box-shadow: 0px 1px 2px rgba(60, 64, 67, 0.3), 0px 1px 3px 1px rgba(60, 64, 67, 0.15);\n",
              "      fill: #174EA6;\n",
              "    }\n",
              "\n",
              "    .colab-df-buttons div {\n",
              "      margin-bottom: 4px;\n",
              "    }\n",
              "\n",
              "    [theme=dark] .colab-df-convert {\n",
              "      background-color: #3B4455;\n",
              "      fill: #D2E3FC;\n",
              "    }\n",
              "\n",
              "    [theme=dark] .colab-df-convert:hover {\n",
              "      background-color: #434B5C;\n",
              "      box-shadow: 0px 1px 3px 1px rgba(0, 0, 0, 0.15);\n",
              "      filter: drop-shadow(0px 1px 2px rgba(0, 0, 0, 0.3));\n",
              "      fill: #FFFFFF;\n",
              "    }\n",
              "  </style>\n",
              "\n",
              "    <script>\n",
              "      const buttonEl =\n",
              "        document.querySelector('#df-cdb4da17-c384-451e-abe5-9a0d68399245 button.colab-df-convert');\n",
              "      buttonEl.style.display =\n",
              "        google.colab.kernel.accessAllowed ? 'block' : 'none';\n",
              "\n",
              "      async function convertToInteractive(key) {\n",
              "        const element = document.querySelector('#df-cdb4da17-c384-451e-abe5-9a0d68399245');\n",
              "        const dataTable =\n",
              "          await google.colab.kernel.invokeFunction('convertToInteractive',\n",
              "                                                    [key], {});\n",
              "        if (!dataTable) return;\n",
              "\n",
              "        const docLinkHtml = 'Like what you see? Visit the ' +\n",
              "          '<a target=\"_blank\" href=https://colab.research.google.com/notebooks/data_table.ipynb>data table notebook</a>'\n",
              "          + ' to learn more about interactive tables.';\n",
              "        element.innerHTML = '';\n",
              "        dataTable['output_type'] = 'display_data';\n",
              "        await google.colab.output.renderOutput(dataTable, element);\n",
              "        const docLink = document.createElement('div');\n",
              "        docLink.innerHTML = docLinkHtml;\n",
              "        element.appendChild(docLink);\n",
              "      }\n",
              "    </script>\n",
              "  </div>\n",
              "\n",
              "\n",
              "<div id=\"df-d00c32c3-8e25-419a-b0d7-de393c3d7807\">\n",
              "  <button class=\"colab-df-quickchart\" onclick=\"quickchart('df-d00c32c3-8e25-419a-b0d7-de393c3d7807')\"\n",
              "            title=\"Suggest charts\"\n",
              "            style=\"display:none;\">\n",
              "\n",
              "<svg xmlns=\"http://www.w3.org/2000/svg\" height=\"24px\"viewBox=\"0 0 24 24\"\n",
              "     width=\"24px\">\n",
              "    <g>\n",
              "        <path d=\"M19 3H5c-1.1 0-2 .9-2 2v14c0 1.1.9 2 2 2h14c1.1 0 2-.9 2-2V5c0-1.1-.9-2-2-2zM9 17H7v-7h2v7zm4 0h-2V7h2v10zm4 0h-2v-4h2v4z\"/>\n",
              "    </g>\n",
              "</svg>\n",
              "  </button>\n",
              "\n",
              "<style>\n",
              "  .colab-df-quickchart {\n",
              "      --bg-color: #E8F0FE;\n",
              "      --fill-color: #1967D2;\n",
              "      --hover-bg-color: #E2EBFA;\n",
              "      --hover-fill-color: #174EA6;\n",
              "      --disabled-fill-color: #AAA;\n",
              "      --disabled-bg-color: #DDD;\n",
              "  }\n",
              "\n",
              "  [theme=dark] .colab-df-quickchart {\n",
              "      --bg-color: #3B4455;\n",
              "      --fill-color: #D2E3FC;\n",
              "      --hover-bg-color: #434B5C;\n",
              "      --hover-fill-color: #FFFFFF;\n",
              "      --disabled-bg-color: #3B4455;\n",
              "      --disabled-fill-color: #666;\n",
              "  }\n",
              "\n",
              "  .colab-df-quickchart {\n",
              "    background-color: var(--bg-color);\n",
              "    border: none;\n",
              "    border-radius: 50%;\n",
              "    cursor: pointer;\n",
              "    display: none;\n",
              "    fill: var(--fill-color);\n",
              "    height: 32px;\n",
              "    padding: 0;\n",
              "    width: 32px;\n",
              "  }\n",
              "\n",
              "  .colab-df-quickchart:hover {\n",
              "    background-color: var(--hover-bg-color);\n",
              "    box-shadow: 0 1px 2px rgba(60, 64, 67, 0.3), 0 1px 3px 1px rgba(60, 64, 67, 0.15);\n",
              "    fill: var(--button-hover-fill-color);\n",
              "  }\n",
              "\n",
              "  .colab-df-quickchart-complete:disabled,\n",
              "  .colab-df-quickchart-complete:disabled:hover {\n",
              "    background-color: var(--disabled-bg-color);\n",
              "    fill: var(--disabled-fill-color);\n",
              "    box-shadow: none;\n",
              "  }\n",
              "\n",
              "  .colab-df-spinner {\n",
              "    border: 2px solid var(--fill-color);\n",
              "    border-color: transparent;\n",
              "    border-bottom-color: var(--fill-color);\n",
              "    animation:\n",
              "      spin 1s steps(1) infinite;\n",
              "  }\n",
              "\n",
              "  @keyframes spin {\n",
              "    0% {\n",
              "      border-color: transparent;\n",
              "      border-bottom-color: var(--fill-color);\n",
              "      border-left-color: var(--fill-color);\n",
              "    }\n",
              "    20% {\n",
              "      border-color: transparent;\n",
              "      border-left-color: var(--fill-color);\n",
              "      border-top-color: var(--fill-color);\n",
              "    }\n",
              "    30% {\n",
              "      border-color: transparent;\n",
              "      border-left-color: var(--fill-color);\n",
              "      border-top-color: var(--fill-color);\n",
              "      border-right-color: var(--fill-color);\n",
              "    }\n",
              "    40% {\n",
              "      border-color: transparent;\n",
              "      border-right-color: var(--fill-color);\n",
              "      border-top-color: var(--fill-color);\n",
              "    }\n",
              "    60% {\n",
              "      border-color: transparent;\n",
              "      border-right-color: var(--fill-color);\n",
              "    }\n",
              "    80% {\n",
              "      border-color: transparent;\n",
              "      border-right-color: var(--fill-color);\n",
              "      border-bottom-color: var(--fill-color);\n",
              "    }\n",
              "    90% {\n",
              "      border-color: transparent;\n",
              "      border-bottom-color: var(--fill-color);\n",
              "    }\n",
              "  }\n",
              "</style>\n",
              "\n",
              "  <script>\n",
              "    async function quickchart(key) {\n",
              "      const quickchartButtonEl =\n",
              "        document.querySelector('#' + key + ' button');\n",
              "      quickchartButtonEl.disabled = true;  // To prevent multiple clicks.\n",
              "      quickchartButtonEl.classList.add('colab-df-spinner');\n",
              "      try {\n",
              "        const charts = await google.colab.kernel.invokeFunction(\n",
              "            'suggestCharts', [key], {});\n",
              "      } catch (error) {\n",
              "        console.error('Error during call to suggestCharts:', error);\n",
              "      }\n",
              "      quickchartButtonEl.classList.remove('colab-df-spinner');\n",
              "      quickchartButtonEl.classList.add('colab-df-quickchart-complete');\n",
              "    }\n",
              "    (() => {\n",
              "      let quickchartButtonEl =\n",
              "        document.querySelector('#df-d00c32c3-8e25-419a-b0d7-de393c3d7807 button');\n",
              "      quickchartButtonEl.style.display =\n",
              "        google.colab.kernel.accessAllowed ? 'block' : 'none';\n",
              "    })();\n",
              "  </script>\n",
              "</div>\n",
              "\n",
              "  <div id=\"id_976f76a0-b3ea-40af-b0b1-92c5a80d9ad9\">\n",
              "    <style>\n",
              "      .colab-df-generate {\n",
              "        background-color: #E8F0FE;\n",
              "        border: none;\n",
              "        border-radius: 50%;\n",
              "        cursor: pointer;\n",
              "        display: none;\n",
              "        fill: #1967D2;\n",
              "        height: 32px;\n",
              "        padding: 0 0 0 0;\n",
              "        width: 32px;\n",
              "      }\n",
              "\n",
              "      .colab-df-generate:hover {\n",
              "        background-color: #E2EBFA;\n",
              "        box-shadow: 0px 1px 2px rgba(60, 64, 67, 0.3), 0px 1px 3px 1px rgba(60, 64, 67, 0.15);\n",
              "        fill: #174EA6;\n",
              "      }\n",
              "\n",
              "      [theme=dark] .colab-df-generate {\n",
              "        background-color: #3B4455;\n",
              "        fill: #D2E3FC;\n",
              "      }\n",
              "\n",
              "      [theme=dark] .colab-df-generate:hover {\n",
              "        background-color: #434B5C;\n",
              "        box-shadow: 0px 1px 3px 1px rgba(0, 0, 0, 0.15);\n",
              "        filter: drop-shadow(0px 1px 2px rgba(0, 0, 0, 0.3));\n",
              "        fill: #FFFFFF;\n",
              "      }\n",
              "    </style>\n",
              "    <button class=\"colab-df-generate\" onclick=\"generateWithVariable('summary_stats')\"\n",
              "            title=\"Generate code using this dataframe.\"\n",
              "            style=\"display:none;\">\n",
              "\n",
              "  <svg xmlns=\"http://www.w3.org/2000/svg\" height=\"24px\"viewBox=\"0 0 24 24\"\n",
              "       width=\"24px\">\n",
              "    <path d=\"M7,19H8.4L18.45,9,17,7.55,7,17.6ZM5,21V16.75L18.45,3.32a2,2,0,0,1,2.83,0l1.4,1.43a1.91,1.91,0,0,1,.58,1.4,1.91,1.91,0,0,1-.58,1.4L9.25,21ZM18.45,9,17,7.55Zm-12,3A5.31,5.31,0,0,0,4.9,8.1,5.31,5.31,0,0,0,1,6.5,5.31,5.31,0,0,0,4.9,4.9,5.31,5.31,0,0,0,6.5,1,5.31,5.31,0,0,0,8.1,4.9,5.31,5.31,0,0,0,12,6.5,5.46,5.46,0,0,0,6.5,12Z\"/>\n",
              "  </svg>\n",
              "    </button>\n",
              "    <script>\n",
              "      (() => {\n",
              "      const buttonEl =\n",
              "        document.querySelector('#id_976f76a0-b3ea-40af-b0b1-92c5a80d9ad9 button.colab-df-generate');\n",
              "      buttonEl.style.display =\n",
              "        google.colab.kernel.accessAllowed ? 'block' : 'none';\n",
              "\n",
              "      buttonEl.onclick = () => {\n",
              "        google.colab.notebook.generateWithVariable('summary_stats');\n",
              "      }\n",
              "      })();\n",
              "    </script>\n",
              "  </div>\n",
              "\n",
              "    </div>\n",
              "  </div>\n"
            ],
            "application/vnd.google.colaboratory.intrinsic+json": {
              "type": "dataframe",
              "variable_name": "summary_stats",
              "summary": "{\n  \"name\": \"summary_stats\",\n  \"rows\": 8,\n  \"fields\": [\n    {\n      \"column\": \"item_no\",\n      \"properties\": {\n        \"dtype\": \"number\",\n        \"std\": 333628.955194143,\n        \"min\": 8000.0,\n        \"max\": 989740.0,\n        \"num_unique_values\": 8,\n        \"samples\": [\n          546474.338375,\n          547081.0,\n          8000.0\n        ],\n        \"semantic_type\": \"\",\n        \"description\": \"\"\n      }\n    },\n    {\n      \"column\": \"stars\",\n      \"properties\": {\n        \"dtype\": \"number\",\n        \"std\": 2827.3492707491296,\n        \"min\": 0.3,\n        \"max\": 8000.0,\n        \"num_unique_values\": 8,\n        \"samples\": [\n          3.4730749999999997,\n          3.5,\n          8000.0\n        ],\n        \"semantic_type\": \"\",\n        \"description\": \"\"\n      }\n    }\n  ]\n}"
            }
          },
          "metadata": {},
          "execution_count": 5
        }
      ]
    },
    {
      "cell_type": "markdown",
      "source": [
        "**Summary Statistics for Numerical Column (stars):**\n",
        "\n",
        "**The stars column has 8000 entries.**\n",
        "\n",
        "* Mean: 3.47\n",
        "* Standard Deviation: 0.98\n",
        "* Minimum: 0.3\n",
        "* Maximum: 6.1\n",
        "* 25th Percentile: 2.8\n",
        "* 50th Percentile (Median): 3.5\n",
        "* 75th Percentile: 4.2"
      ],
      "metadata": {
        "id": "MaqgEu0ElhSj"
      }
    },
    {
      "cell_type": "markdown",
      "source": [],
      "metadata": {
        "id": "wTAzbgstmnRF"
      }
    },
    {
      "cell_type": "code",
      "source": [
        "# Display the data type information\n",
        "data_info = historic_df.info()\n",
        "data_info"
      ],
      "metadata": {
        "colab": {
          "base_uri": "https://localhost:8080/"
        },
        "id": "qmfB4ibAjAgu",
        "outputId": "e96f8060-d4fa-4dd0-8e37-4e6027892776"
      },
      "execution_count": 6,
      "outputs": [
        {
          "output_type": "stream",
          "name": "stdout",
          "text": [
            "<class 'pandas.core.frame.DataFrame'>\n",
            "RangeIndex: 8000 entries, 0 to 7999\n",
            "Data columns (total 6 columns):\n",
            " #   Column             Non-Null Count  Dtype  \n",
            "---  ------             --------------  -----  \n",
            " 0   item_no            8000 non-null   int64  \n",
            " 1   category           8000 non-null   object \n",
            " 2   main_promotion     8000 non-null   object \n",
            " 3   color              8000 non-null   object \n",
            " 4   stars              8000 non-null   float64\n",
            " 5   success_indicator  8000 non-null   object \n",
            "dtypes: float64(1), int64(1), object(4)\n",
            "memory usage: 375.1+ KB\n"
          ]
        }
      ]
    },
    {
      "cell_type": "code",
      "source": [
        "# Analyze the distribution of categorical columns\n",
        "category_distribution = historic_df['category'].value_counts()\n",
        "category_distribution"
      ],
      "metadata": {
        "colab": {
          "base_uri": "https://localhost:8080/"
        },
        "id": "TEY3ty2NjF5D",
        "outputId": "807257c4-82ce-4cc7-bb03-71602f397422"
      },
      "execution_count": 7,
      "outputs": [
        {
          "output_type": "execute_result",
          "data": {
            "text/plain": [
              "category\n",
              "Tunic         1650\n",
              "Polo-Shirt    1546\n",
              "T-Shirt       1459\n",
              "Sweatshirt    1360\n",
              "Blouse        1246\n",
              "Hoodie         739\n",
              "Name: count, dtype: int64"
            ]
          },
          "metadata": {},
          "execution_count": 7
        }
      ]
    },
    {
      "cell_type": "code",
      "source": [
        "promotion_distribution = historic_df['main_promotion'].value_counts()\n",
        "promotion_distribution"
      ],
      "metadata": {
        "colab": {
          "base_uri": "https://localhost:8080/"
        },
        "id": "LYkcAa1GklJ8",
        "outputId": "36b437b8-9b02-487b-99a3-a2f041075e79"
      },
      "execution_count": 8,
      "outputs": [
        {
          "output_type": "execute_result",
          "data": {
            "text/plain": [
              "main_promotion\n",
              "Category_Highlight     2432\n",
              "Catalog                2246\n",
              "Frontpage_Header       2013\n",
              "Display_Ad_Campaign    1309\n",
              "Name: count, dtype: int64"
            ]
          },
          "metadata": {},
          "execution_count": 8
        }
      ]
    },
    {
      "cell_type": "code",
      "source": [
        "color_distribution = historic_df['color'].value_counts()\n",
        "color_distribution"
      ],
      "metadata": {
        "colab": {
          "base_uri": "https://localhost:8080/"
        },
        "id": "sJb_ChpNlH2f",
        "outputId": "1e55b464-387e-4f59-995e-1b063e404447"
      },
      "execution_count": 9,
      "outputs": [
        {
          "output_type": "execute_result",
          "data": {
            "text/plain": [
              "color\n",
              "Multi-Color    1443\n",
              "Blue           1244\n",
              "Yellow         1056\n",
              "Black           812\n",
              "Red             776\n",
              "Green           728\n",
              "Orange          592\n",
              "Brown           585\n",
              "Pink            412\n",
              "White           352\n",
              "Name: count, dtype: int64"
            ]
          },
          "metadata": {},
          "execution_count": 9
        }
      ]
    },
    {
      "cell_type": "code",
      "source": [
        "success_distribution = historic_df['success_indicator'].value_counts()\n",
        "success_distribution"
      ],
      "metadata": {
        "colab": {
          "base_uri": "https://localhost:8080/"
        },
        "id": "LPKMRN3FlL_H",
        "outputId": "6c28c76e-d540-48ae-8a1e-8c3adae12fdc"
      },
      "execution_count": 10,
      "outputs": [
        {
          "output_type": "execute_result",
          "data": {
            "text/plain": [
              "success_indicator\n",
              "top     5185\n",
              "flop    2815\n",
              "Name: count, dtype: int64"
            ]
          },
          "metadata": {},
          "execution_count": 10
        }
      ]
    },
    {
      "cell_type": "code",
      "source": [
        "# Define a color palette\n",
        "palette = sns.color_palette(\"husl\", len(historic_df['category'].unique()))"
      ],
      "metadata": {
        "id": "XTjjege2rwAd"
      },
      "execution_count": 11,
      "outputs": []
    },
    {
      "cell_type": "code",
      "source": [
        "# Plotting category distribution\n",
        "category_palette = sns.color_palette(\"husl\", len(historic_df['category'].unique()))\n",
        "plt.figure(figsize=(10, 6))\n",
        "sns.countplot(y='category', data=historic_df, order=historic_df['category'].value_counts().index, hue='category', palette=category_palette, dodge=False)\n",
        "plt.title('Distribution of Product Categories')\n",
        "plt.xlabel('Count')\n",
        "plt.ylabel('Category')\n",
        "plt.legend([], [], frameon=False)  # Remove legend\n",
        "plt.show()"
      ],
      "metadata": {
        "colab": {
          "base_uri": "https://localhost:8080/",
          "height": 564
        },
        "id": "OZSAPZe7lPm1",
        "outputId": "d8b5198b-0a3f-4552-a2a2-9dbe326867de"
      },
      "execution_count": 12,
      "outputs": [
        {
          "output_type": "display_data",
          "data": {
            "text/plain": [
              "<Figure size 1000x600 with 1 Axes>"
            ],
            "image/png": "[encoded data removed]"
          },
          "metadata": {}
        }
      ]
    },
    {
      "cell_type": "markdown",
      "source": [
        "**Product Categories:**\n",
        "\n",
        "* The most common categories are Tunic, Polo-Shirt, and T-Shirt.\n",
        "* The least common category is Hoodie."
      ],
      "metadata": {
        "id": "VOnmPh4PyVhs"
      }
    },
    {
      "cell_type": "code",
      "source": [
        "# Define a color palette\n",
        "palette = sns.color_palette(\"husl\", len(historic_df['main_promotion'].unique()))"
      ],
      "metadata": {
        "id": "UJ3vUysWuvW3"
      },
      "execution_count": 13,
      "outputs": []
    },
    {
      "cell_type": "code",
      "source": [
        "# Plotting main promotion distribution\n",
        "promotion_palette = sns.color_palette(\"husl\", len(historic_df['main_promotion'].unique()))\n",
        "plt.figure(figsize=(10, 6))\n",
        "sns.countplot(y='main_promotion', data=historic_df, order=historic_df['main_promotion'].value_counts().index, hue='main_promotion', palette=promotion_palette, dodge=False)\n",
        "plt.title('Distribution of Main Promotions')\n",
        "plt.xlabel('Count')\n",
        "plt.ylabel('Main Promotion')\n",
        "plt.legend([], [], frameon=False)  # Remove legend\n",
        "plt.show()"
      ],
      "metadata": {
        "colab": {
          "base_uri": "https://localhost:8080/",
          "height": 564
        },
        "id": "zk_CIu02tApJ",
        "outputId": "aa698655-ae7e-41e0-c2df-e47c975723ce"
      },
      "execution_count": 14,
      "outputs": [
        {
          "output_type": "display_data",
          "data": {
            "text/plain": [
              "<Figure size 1000x600 with 1 Axes>"
            ],
            "image/png": "[encoded data removed]"
          },
          "metadata": {}
        }
      ]
    },
    {
      "cell_type": "markdown",
      "source": [
        "**Main Promotions:**\n",
        "\n",
        "* The most frequently used promotions are Category Highlight and Catalog.\n",
        "* Display Ad Campaign is the least used promotion."
      ],
      "metadata": {
        "id": "ZQr3scYTylaY"
      }
    },
    {
      "cell_type": "code",
      "source": [
        "# Define a color palette\n",
        "palette = sns.color_palette(\"husl\", len(historic_df['color'].unique()))"
      ],
      "metadata": {
        "id": "SvbogA6hvLVi"
      },
      "execution_count": 15,
      "outputs": []
    },
    {
      "cell_type": "code",
      "source": [
        "# Plotting color distribution\n",
        "color_palette = sns.color_palette(\"husl\", len(historic_df['color'].unique()))\n",
        "plt.figure(figsize=(10, 6))\n",
        "sns.countplot(y='color', data=historic_df, order=historic_df['color'].value_counts().index, hue='color', palette=color_palette, dodge=False)\n",
        "plt.title('Distribution of Colors')\n",
        "plt.xlabel('Count')\n",
        "plt.ylabel('Color')\n",
        "plt.legend([], [], frameon=False)  # Remove legend\n",
        "plt.show()"
      ],
      "metadata": {
        "colab": {
          "base_uri": "https://localhost:8080/",
          "height": 564
        },
        "id": "VqhVGHI7taWs",
        "outputId": "12daea06-88fc-4107-d6da-693f8010bddf"
      },
      "execution_count": 16,
      "outputs": [
        {
          "output_type": "display_data",
          "data": {
            "text/plain": [
              "<Figure size 1000x600 with 1 Axes>"
            ],
            "image/png": "[encoded data removed]"
          },
          "metadata": {}
        }
      ]
    },
    {
      "cell_type": "markdown",
      "source": [
        "**Colors:**\n",
        "\n",
        "* The most common colors are Multi-Color, Blue, and Yellow.\n",
        "* The least common colors are Pink and White."
      ],
      "metadata": {
        "id": "0mbaAnivy11N"
      }
    },
    {
      "cell_type": "code",
      "source": [
        "# Define a color palette for success_indicator distribution\n",
        "success_palette = sns.color_palette(\"husl\", len(historic_df['success_indicator'].unique()))"
      ],
      "metadata": {
        "id": "OasWTSO-uaw5"
      },
      "execution_count": 17,
      "outputs": []
    },
    {
      "cell_type": "code",
      "source": [
        "# Plotting success_indicator distribution\n",
        "plt.figure(figsize=(6, 4))\n",
        "sns.countplot(x='success_indicator', data=historic_df, hue='success_indicator', palette=success_palette, dodge=False)\n",
        "plt.title('Distribution of Success Indicator')\n",
        "plt.xlabel('Success Indicator')\n",
        "plt.ylabel('Count')\n",
        "plt.legend([], [], frameon=False)  # Remove legend\n",
        "plt.show()"
      ],
      "metadata": {
        "colab": {
          "base_uri": "https://localhost:8080/",
          "height": 410
        },
        "id": "P6J__TiLuUNF",
        "outputId": "0cc1ff79-a41e-4c11-be81-60b6401bfd78"
      },
      "execution_count": 18,
      "outputs": [
        {
          "output_type": "display_data",
          "data": {
            "text/plain": [
              "<Figure size 600x400 with 1 Axes>"
            ],
            "image/png": "[encoded data removed]"
          },
          "metadata": {}
        }
      ]
    },
    {
      "cell_type": "markdown",
      "source": [
        "**Success Indicator:**\n",
        "\n",
        "* There are more successful products (top) than unsuccessful ones (flop)."
      ],
      "metadata": {
        "id": "dmJjE-gpzEEX"
      }
    },
    {
      "cell_type": "code",
      "source": [
        "# Define a color palette for success_indicator distribution\n",
        "success_palette = sns.color_palette(\"husl\", len(historic_df['success_indicator'].unique()))"
      ],
      "metadata": {
        "id": "qVQw8WKGxPd-"
      },
      "execution_count": 19,
      "outputs": []
    },
    {
      "cell_type": "code",
      "source": [
        "# Boxplot of stars by success_indicator\n",
        "plt.figure(figsize=(10, 6))\n",
        "sns.boxplot(x='success_indicator', y='stars', data=historic_df, hue='success_indicator', palette=success_palette, showfliers=False)\n",
        "plt.title('Stars Distribution by Success Indicator')\n",
        "plt.xlabel('Success Indicator')\n",
        "plt.ylabel('Stars')\n",
        "plt.legend([], [], frameon=False)  # Remove legend\n",
        "plt.show()"
      ],
      "metadata": {
        "colab": {
          "base_uri": "https://localhost:8080/",
          "height": 564
        },
        "id": "_tFzZi9svm_v",
        "outputId": "1c78cdde-446d-45f0-ede1-0151cdf672d7"
      },
      "execution_count": 20,
      "outputs": [
        {
          "output_type": "display_data",
          "data": {
            "text/plain": [
              "<Figure size 1000x600 with 1 Axes>"
            ],
            "image/png": "[encoded data removed]"
          },
          "metadata": {}
        }
      ]
    },
    {
      "cell_type": "markdown",
      "source": [
        "**Stars Distribution by Success Indicator:**\n",
        "\n",
        "* Successful products (top) generally have higher star ratings.\n",
        "* Unsuccessful products (flop) have a wider range of star ratings, with some very low values."
      ],
      "metadata": {
        "id": "Cqr5BJ7izR0H"
      }
    },
    {
      "cell_type": "code",
      "source": [
        "# Perform one-hot encoding for categorical columns\n",
        "historic_df_encoded = pd.get_dummies(historic_df, columns=['category', 'main_promotion', 'color'])"
      ],
      "metadata": {
        "id": "w4mMyAV90l0a"
      },
      "execution_count": 21,
      "outputs": []
    },
    {
      "cell_type": "code",
      "source": [
        "# Encode the 'success_indicator' column\n",
        "historic_df_encoded['success_indicator'] = historic_df_encoded['success_indicator'].apply(lambda x: 1 if x == 'top' else 0)"
      ],
      "metadata": {
        "id": "frUcp6i92DS8"
      },
      "execution_count": 22,
      "outputs": []
    },
    {
      "cell_type": "code",
      "source": [
        "# Calculate the correlation matrix\n",
        "correlation_matrix = historic_df_encoded.corr()"
      ],
      "metadata": {
        "id": "9y1fao452Fvf"
      },
      "execution_count": 23,
      "outputs": []
    },
    {
      "cell_type": "code",
      "source": [
        "# Display the correlation matrix\n",
        "plt.figure(figsize=(15, 10))\n",
        "sns.heatmap(correlation_matrix, annot=False, cmap='coolwarm')\n",
        "plt.title('Correlation Matrix')\n",
        "plt.show()"
      ],
      "metadata": {
        "colab": {
          "base_uri": "https://localhost:8080/",
          "height": 1000
        },
        "id": "QBJ9SzXv3p8e",
        "outputId": "4f69eac1-b524-448f-c67b-489518f1fe11"
      },
      "execution_count": 24,
      "outputs": [
        {
          "output_type": "display_data",
          "data": {
            "text/plain": [
              "<Figure size 1500x1000 with 2 Axes>"
            ],
            "image/png": "[encoded data removed]"
          },
          "metadata": {}
        }
      ]
    },
    {
      "cell_type": "code",
      "source": [
        "# Separate features and target\n",
        "X = historic_df.drop(columns=['success_indicator', 'item_no'])\n",
        "y = historic_df['success_indicator']"
      ],
      "metadata": {
        "id": "svl0QGaY1W4X"
      },
      "execution_count": 25,
      "outputs": []
    },
    {
      "cell_type": "code",
      "source": [
        "# Encode the target variable\n",
        "label_encoder = LabelEncoder()\n",
        "y_encoded = label_encoder.fit_transform(y)"
      ],
      "metadata": {
        "id": "kx_NaSpi3cUE"
      },
      "execution_count": 26,
      "outputs": []
    },
    {
      "cell_type": "code",
      "source": [
        "# Preprocessing pipeline for features\n",
        "categorical_features = ['category', 'main_promotion', 'color']\n",
        "numerical_features = ['stars']"
      ],
      "metadata": {
        "id": "JDfFStMU3fW6"
      },
      "execution_count": 27,
      "outputs": []
    },
    {
      "cell_type": "code",
      "source": [
        "preprocessor = ColumnTransformer(\n",
        "    transformers=[\n",
        "        ('cat', OneHotEncoder(drop='first'), categorical_features),\n",
        "        ('num', StandardScaler(), numerical_features)\n",
        "    ])"
      ],
      "metadata": {
        "id": "w0VfHDDD3hy6"
      },
      "execution_count": 28,
      "outputs": []
    },
    {
      "cell_type": "code",
      "source": [
        "# Split the data into training and test sets\n",
        "X_train, X_test, y_train, y_test = train_test_split(X, y_encoded, test_size=0.2, random_state=42)"
      ],
      "metadata": {
        "id": "M7wZ_zOJ38eo"
      },
      "execution_count": 29,
      "outputs": []
    },
    {
      "cell_type": "code",
      "source": [
        "# Fit and transform the training data\n",
        "X_train_preprocessed = preprocessor.fit_transform(X_train)\n",
        "X_test_preprocessed = preprocessor.transform(X_test)"
      ],
      "metadata": {
        "id": "ToTRDRnA3-0Y"
      },
      "execution_count": 30,
      "outputs": []
    },
    {
      "cell_type": "code",
      "source": [
        "# Train the RandomForestClassifier model\n",
        "rf_model = RandomForestClassifier(random_state=42)\n",
        "rf_model.fit(X_train_preprocessed, y_train)"
      ],
      "metadata": {
        "colab": {
          "base_uri": "https://localhost:8080/",
          "height": 75
        },
        "id": "BhZseuAn4I6N",
        "outputId": "7214671e-5811-4d6b-a2e7-bdc6c34c4287"
      },
      "execution_count": 31,
      "outputs": [
        {
          "output_type": "execute_result",
          "data": {
            "text/plain": [
              "RandomForestClassifier(random_state=42)"
            ],
            "text/html": [
              "<style>#sk-container-id-1 {color: black;background-color: white;}#sk-container-id-1 pre{padding: 0;}#sk-container-id-1 div.sk-toggleable {background-color: white;}#sk-container-id-1 label.sk-toggleable__label {cursor: pointer;display: block;width: 100%;margin-bottom: 0;padding: 0.3em;box-sizing: border-box;text-align: center;}#sk-container-id-1 label.sk-toggleable__label-arrow:before {content: \"▸\";float: left;margin-right: 0.25em;color: #696969;}#sk-container-id-1 label.sk-toggleable__label-arrow:hover:before {color: black;}#sk-container-id-1 div.sk-estimator:hover label.sk-toggleable__label-arrow:before {color: black;}#sk-container-id-1 div.sk-toggleable__content {max-height: 0;max-width: 0;overflow: hidden;text-align: left;background-color: #f0f8ff;}#sk-container-id-1 div.sk-toggleable__content pre {margin: 0.2em;color: black;border-radius: 0.25em;background-color: #f0f8ff;}#sk-container-id-1 input.sk-toggleable__control:checked~div.sk-toggleable__content {max-height: 200px;max-width: 100%;overflow: auto;}#sk-container-id-1 input.sk-toggleable__control:checked~label.sk-toggleable__label-arrow:before {content: \"▾\";}#sk-container-id-1 div.sk-estimator input.sk-toggleable__control:checked~label.sk-toggleable__label {background-color: #d4ebff;}#sk-container-id-1 div.sk-label input.sk-toggleable__control:checked~label.sk-toggleable__label {background-color: #d4ebff;}#sk-container-id-1 input.sk-hidden--visually {border: 0;clip: rect(1px 1px 1px 1px);clip: rect(1px, 1px, 1px, 1px);height: 1px;margin: -1px;overflow: hidden;padding: 0;position: absolute;width: 1px;}#sk-container-id-1 div.sk-estimator {font-family: monospace;background-color: #f0f8ff;border: 1px dotted black;border-radius: 0.25em;box-sizing: border-box;margin-bottom: 0.5em;}#sk-container-id-1 div.sk-estimator:hover {background-color: #d4ebff;}#sk-container-id-1 div.sk-parallel-item::after {content: \"\";width: 100%;border-bottom: 1px solid gray;flex-grow: 1;}#sk-container-id-1 div.sk-label:hover label.sk-toggleable__label {background-color: #d4ebff;}#sk-container-id-1 div.sk-serial::before {content: \"\";position: absolute;border-left: 1px solid gray;box-sizing: border-box;top: 0;bottom: 0;left: 50%;z-index: 0;}#sk-container-id-1 div.sk-serial {display: flex;flex-direction: column;align-items: center;background-color: white;padding-right: 0.2em;padding-left: 0.2em;position: relative;}#sk-container-id-1 div.sk-item {position: relative;z-index: 1;}#sk-container-id-1 div.sk-parallel {display: flex;align-items: stretch;justify-content: center;background-color: white;position: relative;}#sk-container-id-1 div.sk-item::before, #sk-container-id-1 div.sk-parallel-item::before {content: \"\";position: absolute;border-left: 1px solid gray;box-sizing: border-box;top: 0;bottom: 0;left: 50%;z-index: -1;}#sk-container-id-1 div.sk-parallel-item {display: flex;flex-direction: column;z-index: 1;position: relative;background-color: white;}#sk-container-id-1 div.sk-parallel-item:first-child::after {align-self: flex-end;width: 50%;}#sk-container-id-1 div.sk-parallel-item:last-child::after {align-self: flex-start;width: 50%;}#sk-container-id-1 div.sk-parallel-item:only-child::after {width: 0;}#sk-container-id-1 div.sk-dashed-wrapped {border: 1px dashed gray;margin: 0 0.4em 0.5em 0.4em;box-sizing: border-box;padding-bottom: 0.4em;background-color: white;}#sk-container-id-1 div.sk-label label {font-family: monospace;font-weight: bold;display: inline-block;line-height: 1.2em;}#sk-container-id-1 div.sk-label-container {text-align: center;}#sk-container-id-1 div.sk-container {/* jupyter's `normalize.less` sets `[hidden] { display: none; }` but bootstrap.min.css set `[hidden] { display: none !important; }` so we also need the `!important` here to be able to override the default hidden behavior on the sphinx rendered scikit-learn.org. See: https://github.com/scikit-learn/scikit-learn/issues/21755 */display: inline-block !important;position: relative;}#sk-container-id-1 div.sk-text-repr-fallback {display: none;}</style><div id=\"sk-container-id-1\" class=\"sk-top-container\"><div class=\"sk-text-repr-fallback\"><pre>RandomForestClassifier(random_state=42)</pre><b>In a Jupyter environment, please rerun this cell to show the HTML representation or trust the notebook. <br />On GitHub, the HTML representation is unable to render, please try loading this page with nbviewer.org.</b></div><div class=\"sk-container\" hidden><div class=\"sk-item\"><div class=\"sk-estimator sk-toggleable\"><input class=\"sk-toggleable__control sk-hidden--visually\" id=\"sk-estimator-id-1\" type=\"checkbox\" checked><label for=\"sk-estimator-id-1\" class=\"sk-toggleable__label sk-toggleable__label-arrow\">RandomForestClassifier</label><div class=\"sk-toggleable__content\"><pre>RandomForestClassifier(random_state=42)</pre></div></div></div></div></div>"
            ]
          },
          "metadata": {},
          "execution_count": 31
        }
      ]
    },
    {
      "cell_type": "code",
      "source": [
        "# Evaluate the model\n",
        "y_pred_rf = rf_model.predict(X_test_preprocessed)\n",
        "print(\"RandomForestClassifier Report:\\n\", classification_report(y_test, y_pred_rf))\n",
        "print(\"RandomForestClassifier Accuracy:\", accuracy_score(y_test, y_pred_rf))"
      ],
      "metadata": {
        "colab": {
          "base_uri": "https://localhost:8080/"
        },
        "id": "AUimDPWQ4nyq",
        "outputId": "1329e345-48b6-4913-cd6c-57d13bdd1d02"
      },
      "execution_count": 32,
      "outputs": [
        {
          "output_type": "stream",
          "name": "stdout",
          "text": [
            "RandomForestClassifier Report:\n",
            "               precision    recall  f1-score   support\n",
            "\n",
            "           0       0.79      0.68      0.73       571\n",
            "           1       0.84      0.90      0.87      1029\n",
            "\n",
            "    accuracy                           0.82      1600\n",
            "   macro avg       0.81      0.79      0.80      1600\n",
            "weighted avg       0.82      0.82      0.82      1600\n",
            "\n",
            "RandomForestClassifier Accuracy: 0.82125\n"
          ]
        }
      ]
    },
    {
      "cell_type": "code",
      "source": [
        "# Build the ANN model\n",
        "def build_ann(input_shape):\n",
        "    model = Sequential([\n",
        "        Dense(64, activation='relu', input_shape=(input_shape,)),\n",
        "        Dropout(0.5),\n",
        "        Dense(32, activation='relu'),\n",
        "        Dropout(0.5),\n",
        "        Dense(1, activation='sigmoid')\n",
        "    ])\n",
        "    model.compile(optimizer='adam', loss='binary_crossentropy', metrics=['accuracy'])\n",
        "    return model"
      ],
      "metadata": {
        "id": "6_fLqFCh4qQ2"
      },
      "execution_count": 33,
      "outputs": []
    },
    {
      "cell_type": "code",
      "source": [
        "# Convert sparse matrices to dense arrays\n",
        "X_train_dense = X_train_preprocessed.toarray()\n",
        "X_test_dense = X_test_preprocessed.toarray()"
      ],
      "metadata": {
        "id": "RBlJanAa5Obn"
      },
      "execution_count": 34,
      "outputs": []
    },
    {
      "cell_type": "code",
      "source": [
        "# Train the ANN model\n",
        "input_shape = X_train_dense.shape[1]\n",
        "ann_model = build_ann(input_shape)\n",
        "ann_model.fit(X_train_dense, y_train, epochs=10, batch_size=32, validation_split=0.2)"
      ],
      "metadata": {
        "colab": {
          "base_uri": "https://localhost:8080/"
        },
        "id": "p_ozio4b6QJs",
        "outputId": "7dde2c98-01d8-4248-af3b-ac2eb2f3d0c9"
      },
      "execution_count": 35,
      "outputs": [
        {
          "output_type": "stream",
          "name": "stdout",
          "text": [
            "Epoch 1/10\n",
            "160/160 [==============================] - 12s 8ms/step - loss: 0.5533 - accuracy: 0.7330 - val_loss: 0.4642 - val_accuracy: 0.8211\n",
            "Epoch 2/10\n",
            "160/160 [==============================] - 1s 7ms/step - loss: 0.4822 - accuracy: 0.8018 - val_loss: 0.4505 - val_accuracy: 0.8297\n",
            "Epoch 3/10\n",
            "160/160 [==============================] - 1s 7ms/step - loss: 0.4766 - accuracy: 0.8092 - val_loss: 0.4417 - val_accuracy: 0.8289\n",
            "Epoch 4/10\n",
            "160/160 [==============================] - 1s 7ms/step - loss: 0.4696 - accuracy: 0.8146 - val_loss: 0.4387 - val_accuracy: 0.8328\n",
            "Epoch 5/10\n",
            "160/160 [==============================] - 1s 9ms/step - loss: 0.4594 - accuracy: 0.8189 - val_loss: 0.4350 - val_accuracy: 0.8328\n",
            "Epoch 6/10\n",
            "160/160 [==============================] - 1s 9ms/step - loss: 0.4571 - accuracy: 0.8244 - val_loss: 0.4297 - val_accuracy: 0.8383\n",
            "Epoch 7/10\n",
            "160/160 [==============================] - 2s 13ms/step - loss: 0.4577 - accuracy: 0.8229 - val_loss: 0.4283 - val_accuracy: 0.8375\n",
            "Epoch 8/10\n",
            "160/160 [==============================] - 2s 11ms/step - loss: 0.4492 - accuracy: 0.8299 - val_loss: 0.4257 - val_accuracy: 0.8367\n",
            "Epoch 9/10\n",
            "160/160 [==============================] - 1s 7ms/step - loss: 0.4487 - accuracy: 0.8320 - val_loss: 0.4225 - val_accuracy: 0.8398\n",
            "Epoch 10/10\n",
            "160/160 [==============================] - 1s 7ms/step - loss: 0.4480 - accuracy: 0.8318 - val_loss: 0.4188 - val_accuracy: 0.8430\n"
          ]
        },
        {
          "output_type": "execute_result",
          "data": {
            "text/plain": [
              "<keras.src.callbacks.History at 0x7aa71c693f10>"
            ]
          },
          "metadata": {},
          "execution_count": 35
        }
      ]
    },
    {
      "cell_type": "code",
      "source": [
        "# Evaluate the ANN model\n",
        "loss, accuracy = ann_model.evaluate(X_test_dense, y_test)\n",
        "print(\"ANN Model Accuracy:\", accuracy)"
      ],
      "metadata": {
        "colab": {
          "base_uri": "https://localhost:8080/"
        },
        "id": "IB-iLkNs6TBs",
        "outputId": "14b6ccf6-2084-4ad0-ea89-fc3dd73b4243"
      },
      "execution_count": 36,
      "outputs": [
        {
          "output_type": "stream",
          "name": "stdout",
          "text": [
            "50/50 [==============================] - 0s 4ms/step - loss: 0.4205 - accuracy: 0.8406\n",
            "ANN Model Accuracy: 0.840624988079071\n"
          ]
        }
      ]
    },
    {
      "cell_type": "code",
      "source": [
        "# Predict using the ANN model\n",
        "y_pred_ann = (ann_model.predict(X_test_dense) > 0.5).astype(\"int32\")"
      ],
      "metadata": {
        "colab": {
          "base_uri": "https://localhost:8080/"
        },
        "id": "WM2suNPP6Xj4",
        "outputId": "fd93a532-a3bf-4544-bf14-db5269450f86"
      },
      "execution_count": 37,
      "outputs": [
        {
          "output_type": "stream",
          "name": "stdout",
          "text": [
            "50/50 [==============================] - 0s 5ms/step\n"
          ]
        }
      ]
    },
    {
      "cell_type": "code",
      "source": [
        "# Generate classification report for the ANN model\n",
        "print(\"ANN Model Report:\\n\", classification_report(y_test, y_pred_ann))"
      ],
      "metadata": {
        "colab": {
          "base_uri": "https://localhost:8080/"
        },
        "id": "FWzWWRw96ake",
        "outputId": "f25ead6c-e490-432d-e197-cb36ecf8c5c1"
      },
      "execution_count": 38,
      "outputs": [
        {
          "output_type": "stream",
          "name": "stdout",
          "text": [
            "ANN Model Report:\n",
            "               precision    recall  f1-score   support\n",
            "\n",
            "           0       0.83      0.69      0.76       571\n",
            "           1       0.84      0.92      0.88      1029\n",
            "\n",
            "    accuracy                           0.84      1600\n",
            "   macro avg       0.84      0.81      0.82      1600\n",
            "weighted avg       0.84      0.84      0.84      1600\n",
            "\n"
          ]
        }
      ]
    },
    {
      "cell_type": "code",
      "source": [
        "# RandomForestClassifier metrics\n",
        "rf_accuracy = accuracy_score(y_test, y_pred_rf)\n",
        "rf_report = classification_report(y_test, y_pred_rf)"
      ],
      "metadata": {
        "id": "qXL_1tyUAqRZ"
      },
      "execution_count": 39,
      "outputs": []
    },
    {
      "cell_type": "code",
      "source": [
        "# ANN metrics\n",
        "ann_accuracy = accuracy\n",
        "ann_report = classification_report(y_test, y_pred_ann)"
      ],
      "metadata": {
        "id": "_fYKxIFIEb7U"
      },
      "execution_count": 40,
      "outputs": []
    },
    {
      "cell_type": "code",
      "source": [
        "# Print the comparison\n",
        "print(\"RandomForestClassifier Report:\\n\", rf_report)\n",
        "print(\"RandomForestClassifier Accuracy:\", rf_accuracy)\n",
        "print(\"\\n\")\n",
        "print(\"ANN Model Report:\\n\", ann_report)\n",
        "print(\"ANN Model Accuracy:\", ann_accuracy)"
      ],
      "metadata": {
        "colab": {
          "base_uri": "https://localhost:8080/"
        },
        "id": "4wspCBidEepG",
        "outputId": "5aacfe2d-84e9-4258-edc5-71697c9aa473"
      },
      "execution_count": 41,
      "outputs": [
        {
          "output_type": "stream",
          "name": "stdout",
          "text": [
            "RandomForestClassifier Report:\n",
            "               precision    recall  f1-score   support\n",
            "\n",
            "           0       0.79      0.68      0.73       571\n",
            "           1       0.84      0.90      0.87      1029\n",
            "\n",
            "    accuracy                           0.82      1600\n",
            "   macro avg       0.81      0.79      0.80      1600\n",
            "weighted avg       0.82      0.82      0.82      1600\n",
            "\n",
            "RandomForestClassifier Accuracy: 0.82125\n",
            "\n",
            "\n",
            "ANN Model Report:\n",
            "               precision    recall  f1-score   support\n",
            "\n",
            "           0       0.83      0.69      0.76       571\n",
            "           1       0.84      0.92      0.88      1029\n",
            "\n",
            "    accuracy                           0.84      1600\n",
            "   macro avg       0.84      0.81      0.82      1600\n",
            "weighted avg       0.84      0.84      0.84      1600\n",
            "\n",
            "ANN Model Accuracy: 0.840624988079071\n"
          ]
        }
      ]
    },
    {
      "cell_type": "code",
      "source": [
        "# Load the new prediction data\n",
        "prediction_data = 'prediction_input.csv'\n",
        "prediction_df = pd.read_csv(prediction_data)"
      ],
      "metadata": {
        "id": "5hgu1CIfEhWf"
      },
      "execution_count": 42,
      "outputs": []
    },
    {
      "cell_type": "code",
      "source": [
        "# Display the first few rows of the dataset\n",
        "historic_df.head()"
      ],
      "metadata": {
        "colab": {
          "base_uri": "https://localhost:8080/",
          "height": 206
        },
        "id": "jMI4bG3ZFLYj",
        "outputId": "ad410351-6ed7-4613-8c3a-887907494158"
      },
      "execution_count": 43,
      "outputs": [
        {
          "output_type": "execute_result",
          "data": {
            "text/plain": [
              "   item_no    category      main_promotion  color  stars success_indicator\n",
              "0   739157       Tunic             Catalog  Green    3.1              flop\n",
              "1   591846      Hoodie  Category_Highlight    Red    1.5              flop\n",
              "2   337574  Sweatshirt             Catalog    Red    4.4               top\n",
              "3   401933  Polo-Shirt  Category_Highlight   Blue    3.1              flop\n",
              "4   812151      Hoodie  Category_Highlight  Green    4.1               top"
            ],
            "text/html": [
              "\n",
              "  <div id=\"df-d8804a72-d3a0-4416-828e-21da4b88b90c\" class=\"colab-df-container\">\n",
              "    <div>\n",
              "<style scoped>\n",
              "    .dataframe tbody tr th:only-of-type {\n",
              "        vertical-align: middle;\n",
              "    }\n",
              "\n",
              "    .dataframe tbody tr th {\n",
              "        vertical-align: top;\n",
              "    }\n",
              "\n",
              "    .dataframe thead th {\n",
              "        text-align: right;\n",
              "    }\n",
              "</style>\n",
              "<table border=\"1\" class=\"dataframe\">\n",
              "  <thead>\n",
              "    <tr style=\"text-align: right;\">\n",
              "      <th></th>\n",
              "      <th>item_no</th>\n",
              "      <th>category</th>\n",
              "      <th>main_promotion</th>\n",
              "      <th>color</th>\n",
              "      <th>stars</th>\n",
              "      <th>success_indicator</th>\n",
              "    </tr>\n",
              "  </thead>\n",
              "  <tbody>\n",
              "    <tr>\n",
              "      <th>0</th>\n",
              "      <td>739157</td>\n",
              "      <td>Tunic</td>\n",
              "      <td>Catalog</td>\n",
              "      <td>Green</td>\n",
              "      <td>3.1</td>\n",
              "      <td>flop</td>\n",
              "    </tr>\n",
              "    <tr>\n",
              "      <th>1</th>\n",
              "      <td>591846</td>\n",
              "      <td>Hoodie</td>\n",
              "      <td>Category_Highlight</td>\n",
              "      <td>Red</td>\n",
              "      <td>1.5</td>\n",
              "      <td>flop</td>\n",
              "    </tr>\n",
              "    <tr>\n",
              "      <th>2</th>\n",
              "      <td>337574</td>\n",
              "      <td>Sweatshirt</td>\n",
              "      <td>Catalog</td>\n",
              "      <td>Red</td>\n",
              "      <td>4.4</td>\n",
              "      <td>top</td>\n",
              "    </tr>\n",
              "    <tr>\n",
              "      <th>3</th>\n",
              "      <td>401933</td>\n",
              "      <td>Polo-Shirt</td>\n",
              "      <td>Category_Highlight</td>\n",
              "      <td>Blue</td>\n",
              "      <td>3.1</td>\n",
              "      <td>flop</td>\n",
              "    </tr>\n",
              "    <tr>\n",
              "      <th>4</th>\n",
              "      <td>812151</td>\n",
              "      <td>Hoodie</td>\n",
              "      <td>Category_Highlight</td>\n",
              "      <td>Green</td>\n",
              "      <td>4.1</td>\n",
              "      <td>top</td>\n",
              "    </tr>\n",
              "  </tbody>\n",
              "</table>\n",
              "</div>\n",
              "    <div class=\"colab-df-buttons\">\n",
              "\n",
              "  <div class=\"colab-df-container\">\n",
              "    <button class=\"colab-df-convert\" onclick=\"convertToInteractive('df-d8804a72-d3a0-4416-828e-21da4b88b90c')\"\n",
              "            title=\"Convert this dataframe to an interactive table.\"\n",
              "            style=\"display:none;\">\n",
              "\n",
              "  <svg xmlns=\"http://www.w3.org/2000/svg\" height=\"24px\" viewBox=\"0 -960 960 960\">\n",
              "    <path d=\"M120-120v-720h720v720H120Zm60-500h600v-160H180v160Zm220 220h160v-160H400v160Zm0 220h160v-160H400v160ZM180-400h160v-160H180v160Zm440 0h160v-160H620v160ZM180-180h160v-160H180v160Zm440 0h160v-160H620v160Z\"/>\n",
              "  </svg>\n",
              "    </button>\n",
              "\n",
              "  <style>\n",
              "    .colab-df-container {\n",
              "      display:flex;\n",
              "      gap: 12px;\n",
              "    }\n",
              "\n",
              "    .colab-df-convert {\n",
              "      background-color: #E8F0FE;\n",
              "      border: none;\n",
              "      border-radius: 50%;\n",
              "      cursor: pointer;\n",
              "      display: none;\n",
              "      fill: #1967D2;\n",
              "      height: 32px;\n",
              "      padding: 0 0 0 0;\n",
              "      width: 32px;\n",
              "    }\n",
              "\n",
              "    .colab-df-convert:hover {\n",
              "      background-color: #E2EBFA;\n",
              "      box-shadow: 0px 1px 2px rgba(60, 64, 67, 0.3), 0px 1px 3px 1px rgba(60, 64, 67, 0.15);\n",
              "      fill: #174EA6;\n",
              "    }\n",
              "\n",
              "    .colab-df-buttons div {\n",
              "      margin-bottom: 4px;\n",
              "    }\n",
              "\n",
              "    [theme=dark] .colab-df-convert {\n",
              "      background-color: #3B4455;\n",
              "      fill: #D2E3FC;\n",
              "    }\n",
              "\n",
              "    [theme=dark] .colab-df-convert:hover {\n",
              "      background-color: #434B5C;\n",
              "      box-shadow: 0px 1px 3px 1px rgba(0, 0, 0, 0.15);\n",
              "      filter: drop-shadow(0px 1px 2px rgba(0, 0, 0, 0.3));\n",
              "      fill: #FFFFFF;\n",
              "    }\n",
              "  </style>\n",
              "\n",
              "    <script>\n",
              "      const buttonEl =\n",
              "        document.querySelector('#df-d8804a72-d3a0-4416-828e-21da4b88b90c button.colab-df-convert');\n",
              "      buttonEl.style.display =\n",
              "        google.colab.kernel.accessAllowed ? 'block' : 'none';\n",
              "\n",
              "      async function convertToInteractive(key) {\n",
              "        const element = document.querySelector('#df-d8804a72-d3a0-4416-828e-21da4b88b90c');\n",
              "        const dataTable =\n",
              "          await google.colab.kernel.invokeFunction('convertToInteractive',\n",
              "                                                    [key], {});\n",
              "        if (!dataTable) return;\n",
              "\n",
              "        const docLinkHtml = 'Like what you see? Visit the ' +\n",
              "          '<a target=\"_blank\" href=https://colab.research.google.com/notebooks/data_table.ipynb>data table notebook</a>'\n",
              "          + ' to learn more about interactive tables.';\n",
              "        element.innerHTML = '';\n",
              "        dataTable['output_type'] = 'display_data';\n",
              "        await google.colab.output.renderOutput(dataTable, element);\n",
              "        const docLink = document.createElement('div');\n",
              "        docLink.innerHTML = docLinkHtml;\n",
              "        element.appendChild(docLink);\n",
              "      }\n",
              "    </script>\n",
              "  </div>\n",
              "\n",
              "\n",
              "<div id=\"df-b374c5fd-b009-4e1e-b5c4-7f10fdf8f5ca\">\n",
              "  <button class=\"colab-df-quickchart\" onclick=\"quickchart('df-b374c5fd-b009-4e1e-b5c4-7f10fdf8f5ca')\"\n",
              "            title=\"Suggest charts\"\n",
              "            style=\"display:none;\">\n",
              "\n",
              "<svg xmlns=\"http://www.w3.org/2000/svg\" height=\"24px\"viewBox=\"0 0 24 24\"\n",
              "     width=\"24px\">\n",
              "    <g>\n",
              "        <path d=\"M19 3H5c-1.1 0-2 .9-2 2v14c0 1.1.9 2 2 2h14c1.1 0 2-.9 2-2V5c0-1.1-.9-2-2-2zM9 17H7v-7h2v7zm4 0h-2V7h2v10zm4 0h-2v-4h2v4z\"/>\n",
              "    </g>\n",
              "</svg>\n",
              "  </button>\n",
              "\n",
              "<style>\n",
              "  .colab-df-quickchart {\n",
              "      --bg-color: #E8F0FE;\n",
              "      --fill-color: #1967D2;\n",
              "      --hover-bg-color: #E2EBFA;\n",
              "      --hover-fill-color: #174EA6;\n",
              "      --disabled-fill-color: #AAA;\n",
              "      --disabled-bg-color: #DDD;\n",
              "  }\n",
              "\n",
              "  [theme=dark] .colab-df-quickchart {\n",
              "      --bg-color: #3B4455;\n",
              "      --fill-color: #D2E3FC;\n",
              "      --hover-bg-color: #434B5C;\n",
              "      --hover-fill-color: #FFFFFF;\n",
              "      --disabled-bg-color: #3B4455;\n",
              "      --disabled-fill-color: #666;\n",
              "  }\n",
              "\n",
              "  .colab-df-quickchart {\n",
              "    background-color: var(--bg-color);\n",
              "    border: none;\n",
              "    border-radius: 50%;\n",
              "    cursor: pointer;\n",
              "    display: none;\n",
              "    fill: var(--fill-color);\n",
              "    height: 32px;\n",
              "    padding: 0;\n",
              "    width: 32px;\n",
              "  }\n",
              "\n",
              "  .colab-df-quickchart:hover {\n",
              "    background-color: var(--hover-bg-color);\n",
              "    box-shadow: 0 1px 2px rgba(60, 64, 67, 0.3), 0 1px 3px 1px rgba(60, 64, 67, 0.15);\n",
              "    fill: var(--button-hover-fill-color);\n",
              "  }\n",
              "\n",
              "  .colab-df-quickchart-complete:disabled,\n",
              "  .colab-df-quickchart-complete:disabled:hover {\n",
              "    background-color: var(--disabled-bg-color);\n",
              "    fill: var(--disabled-fill-color);\n",
              "    box-shadow: none;\n",
              "  }\n",
              "\n",
              "  .colab-df-spinner {\n",
              "    border: 2px solid var(--fill-color);\n",
              "    border-color: transparent;\n",
              "    border-bottom-color: var(--fill-color);\n",
              "    animation:\n",
              "      spin 1s steps(1) infinite;\n",
              "  }\n",
              "\n",
              "  @keyframes spin {\n",
              "    0% {\n",
              "      border-color: transparent;\n",
              "      border-bottom-color: var(--fill-color);\n",
              "      border-left-color: var(--fill-color);\n",
              "    }\n",
              "    20% {\n",
              "      border-color: transparent;\n",
              "      border-left-color: var(--fill-color);\n",
              "      border-top-color: var(--fill-color);\n",
              "    }\n",
              "    30% {\n",
              "      border-color: transparent;\n",
              "      border-left-color: var(--fill-color);\n",
              "      border-top-color: var(--fill-color);\n",
              "      border-right-color: var(--fill-color);\n",
              "    }\n",
              "    40% {\n",
              "      border-color: transparent;\n",
              "      border-right-color: var(--fill-color);\n",
              "      border-top-color: var(--fill-color);\n",
              "    }\n",
              "    60% {\n",
              "      border-color: transparent;\n",
              "      border-right-color: var(--fill-color);\n",
              "    }\n",
              "    80% {\n",
              "      border-color: transparent;\n",
              "      border-right-color: var(--fill-color);\n",
              "      border-bottom-color: var(--fill-color);\n",
              "    }\n",
              "    90% {\n",
              "      border-color: transparent;\n",
              "      border-bottom-color: var(--fill-color);\n",
              "    }\n",
              "  }\n",
              "</style>\n",
              "\n",
              "  <script>\n",
              "    async function quickchart(key) {\n",
              "      const quickchartButtonEl =\n",
              "        document.querySelector('#' + key + ' button');\n",
              "      quickchartButtonEl.disabled = true;  // To prevent multiple clicks.\n",
              "      quickchartButtonEl.classList.add('colab-df-spinner');\n",
              "      try {\n",
              "        const charts = await google.colab.kernel.invokeFunction(\n",
              "            'suggestCharts', [key], {});\n",
              "      } catch (error) {\n",
              "        console.error('Error during call to suggestCharts:', error);\n",
              "      }\n",
              "      quickchartButtonEl.classList.remove('colab-df-spinner');\n",
              "      quickchartButtonEl.classList.add('colab-df-quickchart-complete');\n",
              "    }\n",
              "    (() => {\n",
              "      let quickchartButtonEl =\n",
              "        document.querySelector('#df-b374c5fd-b009-4e1e-b5c4-7f10fdf8f5ca button');\n",
              "      quickchartButtonEl.style.display =\n",
              "        google.colab.kernel.accessAllowed ? 'block' : 'none';\n",
              "    })();\n",
              "  </script>\n",
              "</div>\n",
              "\n",
              "    </div>\n",
              "  </div>\n"
            ],
            "application/vnd.google.colaboratory.intrinsic+json": {
              "type": "dataframe",
              "variable_name": "historic_df",
              "summary": "{\n  \"name\": \"historic_df\",\n  \"rows\": 8000,\n  \"fields\": [\n    {\n      \"column\": \"item_no\",\n      \"properties\": {\n        \"dtype\": \"number\",\n        \"std\": 256513,\n        \"min\": 100171,\n        \"max\": 989740,\n        \"num_unique_values\": 8000,\n        \"samples\": [\n          472352,\n          185002,\n          195209\n        ],\n        \"semantic_type\": \"\",\n        \"description\": \"\"\n      }\n    },\n    {\n      \"column\": \"category\",\n      \"properties\": {\n        \"dtype\": \"category\",\n        \"num_unique_values\": 6,\n        \"samples\": [\n          \"Tunic\",\n          \"Hoodie\",\n          \"Blouse\"\n        ],\n        \"semantic_type\": \"\",\n        \"description\": \"\"\n      }\n    },\n    {\n      \"column\": \"main_promotion\",\n      \"properties\": {\n        \"dtype\": \"category\",\n        \"num_unique_values\": 4,\n        \"samples\": [\n          \"Category_Highlight\",\n          \"Frontpage_Header\",\n          \"Catalog\"\n        ],\n        \"semantic_type\": \"\",\n        \"description\": \"\"\n      }\n    },\n    {\n      \"column\": \"color\",\n      \"properties\": {\n        \"dtype\": \"category\",\n        \"num_unique_values\": 10,\n        \"samples\": [\n          \"Pink\",\n          \"Red\",\n          \"White\"\n        ],\n        \"semantic_type\": \"\",\n        \"description\": \"\"\n      }\n    },\n    {\n      \"column\": \"stars\",\n      \"properties\": {\n        \"dtype\": \"number\",\n        \"std\": 0.9788104020188934,\n        \"min\": 0.3,\n        \"max\": 6.1,\n        \"num_unique_values\": 57,\n        \"samples\": [\n          3.1,\n          1.4,\n          3.0\n        ],\n        \"semantic_type\": \"\",\n        \"description\": \"\"\n      }\n    },\n    {\n      \"column\": \"success_indicator\",\n      \"properties\": {\n        \"dtype\": \"category\",\n        \"num_unique_values\": 2,\n        \"samples\": [\n          \"top\",\n          \"flop\"\n        ],\n        \"semantic_type\": \"\",\n        \"description\": \"\"\n      }\n    }\n  ]\n}"
            }
          },
          "metadata": {},
          "execution_count": 43
        }
      ]
    },
    {
      "cell_type": "code",
      "source": [
        "# Preprocess the new data using the same pipeline\n",
        "X_new = prediction_df.drop(columns=['item_no'])\n",
        "X_new_preprocessed = preprocessor.transform(X_new)\n",
        "X_new_dense = X_new_preprocessed.toarray()  # Convert to dense array if using ANN"
      ],
      "metadata": {
        "id": "bzXPH1OVE77s"
      },
      "execution_count": 44,
      "outputs": []
    },
    {
      "cell_type": "code",
      "source": [
        "# Use the ANN model to predict the success of the new products\n",
        "predictions = (ann_model.predict(X_new_dense) > 0.5).astype(\"int32\")"
      ],
      "metadata": {
        "colab": {
          "base_uri": "https://localhost:8080/"
        },
        "id": "Zu6nP2CDE-zv",
        "outputId": "b8583b1b-a0a6-4f3d-9d4b-906d16220a1d"
      },
      "execution_count": 45,
      "outputs": [
        {
          "output_type": "stream",
          "name": "stdout",
          "text": [
            "63/63 [==============================] - 0s 3ms/step\n"
          ]
        }
      ]
    },
    {
      "cell_type": "code",
      "source": [
        "# Add predictions to the dataframe\n",
        "prediction_df['success_prediction'] = predictions"
      ],
      "metadata": {
        "id": "6WXHbTiuFEYL"
      },
      "execution_count": 46,
      "outputs": []
    },
    {
      "cell_type": "code",
      "source": [
        "# Save the predictions to a new CSV file\n",
        "prediction_df.to_csv('prediction_output.csv', index=False)"
      ],
      "metadata": {
        "id": "tyn6-dJYFHQS"
      },
      "execution_count": 47,
      "outputs": []
    }
  ]
}